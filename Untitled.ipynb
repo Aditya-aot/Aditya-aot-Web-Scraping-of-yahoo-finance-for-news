{
 "cells": [
  {
   "cell_type": "code",
   "execution_count": 4,
   "id": "f7557a6d",
   "metadata": {},
   "outputs": [],
   "source": [
    "\n",
    "Web-Scraping-of-yahoo-finance-for-news"
   ]
  },
  {
   "cell_type": "code",
   "execution_count": 5,
   "id": "46294bd3",
   "metadata": {},
   "outputs": [],
   "source": [
    "# news\n",
    "from bs4 import BeautifulSoup\n",
    "import pandas as pd\n",
    "import requests"
   ]
  },
  {
   "cell_type": "code",
   "execution_count": 22,
   "id": "c0752bfd",
   "metadata": {},
   "outputs": [
    {
     "name": "stdout",
     "output_type": "stream",
     "text": [
      "{1: ['Walmart stock rises on Evercore ISI upgrade', 'https://finance.yahoo.com//video/walmart-stock-rises-evercore-isi-135308174.html', 'Yahoo Finance Live anchors Julie Hyman and Brad Smith discuss Evercore ISI’s Outperform rating on Walmart stock.'], 2: ['Exclusive-Germans shun foreign deposits on fear of new crisis', 'https://finance.yahoo.com//news/exclusive-germans-shun-foreign-deposits-135048198.html', \"German savers are turning their backs on foreign banks despite juicier deposit rates for fear of getting embroiled in a crisis like the one that hit Silicon Valley Bank, data compiled for Reuters shows.  But that trend turned suddenly on March 10, when the collapse of Silicon Valley Bank sparked turmoil in the banking sector, according to data provided by two German comparison websites.  By contrast, German banks, which are perceived as safer because of their government's high credit rating and two separate safety nets on deposits, saw an increase in demand, both platforms said.\"], 3: ['Charles Schwab stock declines on Morgan Stanley downgrade', 'https://finance.yahoo.com//video/charles-schwab-stock-declines-morgan-134700704.html', 'Yahoo Finance Live anchors Julie Hyman and Brad Smith discuss a Morgan Stanley analyst’s decision to downgrade Charles Schwab stock to Equalweight.'], 4: ['Roku stock rises amid restructuring, plans to lay off 6% of workforce', 'https://finance.yahoo.com//video/roku-stock-rises-amid-restructuring-134321709.html', 'Yahoo Finance Live anchors Julie Hyman and Brad Smith discuss the rise in stock for Roku and the company’s plans to layoff 6% of its workforce.'], 5: [\"Analysis-After extraordinary rally, bonds' fate now with bank stability and inflation\", 'https://finance.yahoo.com//news/analysis-extraordinary-rally-bonds-fate-134235420.html', \"Borrowing costs in some of the world's biggest economies end a volatile quarter eyeing their sharpest drops in years and more swings are likely until it is clear whether central banks will focus on financial stability or inflation.  As of Thursday, two-year U.S. Treasury yields have slid 65 basis points (bps) in March, nearing their biggest monthly drop since January 2008, as U.S. lenders Silicon Valley Bank and Signature Bank failed and Credit Suisse was rescued.  Alongside that dash for safe havens was a rapid repricing of rate-hike bets as banking turmoil raised financial stability risks, fuelling the rally in government debt.\"], 6: ['Stocks extend gains, bond yields rise: Stock market news today', 'https://finance.yahoo.com//news/stock-market-news-today-live-updates-march-30-2023-120844229.html', 'Stocks extend gains Thursday morning after a strong showing on Wednesday.'], 7: ['Bed Bath & Beyond files to sell up to $300 million worth of stock', 'https://finance.yahoo.com//video/bed-bath-beyond-files-sell-133922029.html', 'Yahoo Finance Live anchors Julie Hyman and Brad Smith discuss news that Bed Bath & Beyond has filed for a $30 million stock offering.'], 8: ['Banking crisis encourages ‘the idea of a growth deceleration,’ strategist says', 'https://finance.yahoo.com//video/banking-crisis-encourages-idea-growth-133916162.html', 'Morgan Stanley Chief Cross-Asset Strategist Andrew Sheets joins Yahoo Finance Live to discuss stock futures, banking fears, the idea of a growth deceleration, rate hikes, and investor sentiment.'], 9: ['Alibaba considering giving up control of some of its business units', 'https://finance.yahoo.com//video/alibaba-considering-giving-control-business-133637829.html', 'Yahoo Finance Live’s Julie Hyman discusses the rise in stock for Alibaba following the company’s plans for a seismic split.']}\n"
     ]
    }
   ],
   "source": [
    "url='https://finance.yahoo.com/news'\n",
    "page = requests.get(url)\n",
    "\n",
    "page.text\n",
    "soup = BeautifulSoup(page.text,'html.parser')\n",
    "yahoo_news = soup.find_all(\"div\", {\"class\": \"Ov(h) Pend(44px) Pstart(25px)\"})\n",
    "y_news = {}\n",
    "n=0 \n",
    "for news in yahoo_news :\n",
    "    url='https://finance.yahoo.com/news'\n",
    "    page = requests.get(url)\n",
    "    soup = BeautifulSoup(page.text,'html.parser')\n",
    "    heading = news.find('a', {'class':'js-content-viewer wafer-caas Fw(b) Fz(18px) Lh(23px) LineClamp(2,46px) Fz(17px)--sm1024 Lh(19px)--sm1024 LineClamp(2,38px)--sm1024 mega-item-header-link Td(n) C(#0078ff):h C(#000) LineClamp(2,46px) LineClamp(2,38px)--sm1024 not-isInStreamVideoEnabled'}).text\n",
    "    link = news.find('a',{'class':'js-content-viewer wafer-caas Fw(b) Fz(18px) Lh(23px) LineClamp(2,46px) Fz(17px)--sm1024 Lh(19px)--sm1024 LineClamp(2,38px)--sm1024 mega-item-header-link Td(n) C(#0078ff):h C(#000) LineClamp(2,46px) LineClamp(2,38px)--sm1024 not-isInStreamVideoEnabled'}).get('href')\n",
    "    link =('https://finance.yahoo.com/'+link)\n",
    "    summary = news.find('p',{'class':'Fz(14px) Lh(19px) Fz(13px)--sm1024 Lh(17px)--sm1024 LineClamp(2,38px) LineClamp(2,34px)--sm1024 M(0)'})\n",
    "    if summary :\n",
    "        summary=summary.text \n",
    "    else :\n",
    "        summary=\"nope\"\n",
    "\n",
    "\n",
    "    n=1+n\n",
    "    y_news[n] = [heading,link,summary]\n",
    "        \n",
    "context={'y_news':y_news}\n",
    "\n",
    "print(y_news)"
   ]
  },
  {
   "cell_type": "code",
   "execution_count": 35,
   "id": "65b02764",
   "metadata": {},
   "outputs": [
    {
     "name": "stdout",
     "output_type": "stream",
     "text": [
      "Heading : Walmart stock rises on Evercore ISI upgrade\n",
      "Link : https://finance.yahoo.com//video/walmart-stock-rises-evercore-isi-135308174.html\n",
      "Summary : Yahoo Finance Live anchors Julie Hyman and Brad Smith discuss Evercore ISI’s Outperform rating on Walmart stock.\n",
      "--------------------------------------------------------------------------\n",
      "\n",
      "Heading : Exclusive-Germans shun foreign deposits on fear of new crisis\n",
      "Link : https://finance.yahoo.com//news/exclusive-germans-shun-foreign-deposits-135048198.html\n",
      "Summary : German savers are turning their backs on foreign banks despite juicier deposit rates for fear of getting embroiled in a crisis like the one that hit Silicon Valley Bank, data compiled for Reuters shows.  But that trend turned suddenly on March 10, when the collapse of Silicon Valley Bank sparked turmoil in the banking sector, according to data provided by two German comparison websites.  By contrast, German banks, which are perceived as safer because of their government's high credit rating and two separate safety nets on deposits, saw an increase in demand, both platforms said.\n",
      "--------------------------------------------------------------------------\n",
      "\n",
      "Heading : Charles Schwab stock declines on Morgan Stanley downgrade\n",
      "Link : https://finance.yahoo.com//video/charles-schwab-stock-declines-morgan-134700704.html\n",
      "Summary : Yahoo Finance Live anchors Julie Hyman and Brad Smith discuss a Morgan Stanley analyst’s decision to downgrade Charles Schwab stock to Equalweight.\n",
      "--------------------------------------------------------------------------\n",
      "\n",
      "Heading : Roku stock rises amid restructuring, plans to lay off 6% of workforce\n",
      "Link : https://finance.yahoo.com//video/roku-stock-rises-amid-restructuring-134321709.html\n",
      "Summary : Yahoo Finance Live anchors Julie Hyman and Brad Smith discuss the rise in stock for Roku and the company’s plans to layoff 6% of its workforce.\n",
      "--------------------------------------------------------------------------\n",
      "\n",
      "Heading : Analysis-After extraordinary rally, bonds' fate now with bank stability and inflation\n",
      "Link : https://finance.yahoo.com//news/analysis-extraordinary-rally-bonds-fate-134235420.html\n",
      "Summary : Borrowing costs in some of the world's biggest economies end a volatile quarter eyeing their sharpest drops in years and more swings are likely until it is clear whether central banks will focus on financial stability or inflation.  As of Thursday, two-year U.S. Treasury yields have slid 65 basis points (bps) in March, nearing their biggest monthly drop since January 2008, as U.S. lenders Silicon Valley Bank and Signature Bank failed and Credit Suisse was rescued.  Alongside that dash for safe havens was a rapid repricing of rate-hike bets as banking turmoil raised financial stability risks, fuelling the rally in government debt.\n",
      "--------------------------------------------------------------------------\n",
      "\n",
      "Heading : Stocks extend gains, bond yields rise: Stock market news today\n",
      "Link : https://finance.yahoo.com//news/stock-market-news-today-live-updates-march-30-2023-120844229.html\n",
      "Summary : Stocks extend gains Thursday morning after a strong showing on Wednesday.\n",
      "--------------------------------------------------------------------------\n",
      "\n",
      "Heading : Bed Bath & Beyond files to sell up to $300 million worth of stock\n",
      "Link : https://finance.yahoo.com//video/bed-bath-beyond-files-sell-133922029.html\n",
      "Summary : Yahoo Finance Live anchors Julie Hyman and Brad Smith discuss news that Bed Bath & Beyond has filed for a $30 million stock offering.\n",
      "--------------------------------------------------------------------------\n",
      "\n",
      "Heading : Banking crisis encourages ‘the idea of a growth deceleration,’ strategist says\n",
      "Link : https://finance.yahoo.com//video/banking-crisis-encourages-idea-growth-133916162.html\n",
      "Summary : Morgan Stanley Chief Cross-Asset Strategist Andrew Sheets joins Yahoo Finance Live to discuss stock futures, banking fears, the idea of a growth deceleration, rate hikes, and investor sentiment.\n",
      "--------------------------------------------------------------------------\n",
      "\n",
      "Heading : Alibaba considering giving up control of some of its business units\n",
      "Link : https://finance.yahoo.com//video/alibaba-considering-giving-control-business-133637829.html\n",
      "Summary : Yahoo Finance Live’s Julie Hyman discusses the rise in stock for Alibaba following the company’s plans for a seismic split.\n",
      "--------------------------------------------------------------------------\n",
      "\n"
     ]
    }
   ],
   "source": [
    "for i ,t in y_news.items() :\n",
    "    print(\"Heading :\" ,t[0])\n",
    "    print(\"Link :\" ,t[1])\n",
    "    print(\"Summary :\" ,t[2])\n",
    "    print(\"--------------------------------------------------------------------------\")\n",
    "    print(\"\")"
   ]
  },
  {
   "cell_type": "code",
   "execution_count": null,
   "id": "cc98a7b0",
   "metadata": {},
   "outputs": [],
   "source": []
  }
 ],
 "metadata": {
  "kernelspec": {
   "display_name": "Python 3 (ipykernel)",
   "language": "python",
   "name": "python3"
  },
  "language_info": {
   "codemirror_mode": {
    "name": "ipython",
    "version": 3
   },
   "file_extension": ".py",
   "mimetype": "text/x-python",
   "name": "python",
   "nbconvert_exporter": "python",
   "pygments_lexer": "ipython3",
   "version": "3.11.2"
  }
 },
 "nbformat": 4,
 "nbformat_minor": 5
}
